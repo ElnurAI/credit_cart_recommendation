{
 "cells": [
  {
   "cell_type": "markdown",
   "id": "198370bf",
   "metadata": {},
   "source": [
    "### Import Libraries"
   ]
  },
  {
   "cell_type": "code",
   "execution_count": 1,
   "id": "526fc352",
   "metadata": {},
   "outputs": [],
   "source": [
    "import warnings\n",
    "import numpy as np\n",
    "import pandas as pd\n",
    "import seaborn as sns\n",
    "import matplotlib.pyplot as plt\n",
    "\n",
    "import statistics\n",
    "from sklearn import preprocessing \n",
    "from sklearn.metrics import classification_report, confusion_matrix, roc_auc_score, accuracy_score\n",
    "from sklearn.model_selection import cross_validate, cross_val_score, validation_curve, train_test_split, GridSearchCV\n",
    "\n",
    "pd.set_option('display.max_rows', 700)\n",
    "pd.set_option('display.max_columns', 700)\n",
    "pd.set_option('display.width', 700)\n",
    "warnings.simplefilter(action='ignore', category=Warning)"
   ]
  },
  {
   "cell_type": "markdown",
   "id": "c7fe98f4",
   "metadata": {},
   "source": [
    "#### Read Data"
   ]
  },
  {
   "cell_type": "code",
   "execution_count": 2,
   "id": "a96de453",
   "metadata": {},
   "outputs": [],
   "source": [
    "df = pd.read_csv(\"credit_card_recommendation.csv\")"
   ]
  },
  {
   "cell_type": "code",
   "execution_count": 3,
   "id": "4d12b346",
   "metadata": {},
   "outputs": [
    {
     "data": {
      "text/html": [
       "<div>\n",
       "<style scoped>\n",
       "    .dataframe tbody tr th:only-of-type {\n",
       "        vertical-align: middle;\n",
       "    }\n",
       "\n",
       "    .dataframe tbody tr th {\n",
       "        vertical-align: top;\n",
       "    }\n",
       "\n",
       "    .dataframe thead th {\n",
       "        text-align: right;\n",
       "    }\n",
       "</style>\n",
       "<table border=\"1\" class=\"dataframe\">\n",
       "  <thead>\n",
       "    <tr style=\"text-align: right;\">\n",
       "      <th></th>\n",
       "      <th>User_ID</th>\n",
       "      <th>Gender</th>\n",
       "      <th>Age</th>\n",
       "      <th>Area_Code</th>\n",
       "      <th>Profession</th>\n",
       "      <th>Channel_Code</th>\n",
       "      <th>Vintage</th>\n",
       "      <th>Has_Credit</th>\n",
       "      <th>Avg_Account_Balance</th>\n",
       "      <th>Is_Active</th>\n",
       "      <th>Need_Credit_Card</th>\n",
       "    </tr>\n",
       "  </thead>\n",
       "  <tbody>\n",
       "    <tr>\n",
       "      <th>0</th>\n",
       "      <td>NNVBBKZB</td>\n",
       "      <td>Female</td>\n",
       "      <td>73</td>\n",
       "      <td>RG268</td>\n",
       "      <td>Other</td>\n",
       "      <td>X3</td>\n",
       "      <td>43</td>\n",
       "      <td>No</td>\n",
       "      <td>1045696</td>\n",
       "      <td>No</td>\n",
       "      <td>0</td>\n",
       "    </tr>\n",
       "    <tr>\n",
       "      <th>1</th>\n",
       "      <td>IDD62UNG</td>\n",
       "      <td>Female</td>\n",
       "      <td>30</td>\n",
       "      <td>RG277</td>\n",
       "      <td>Salaried</td>\n",
       "      <td>X1</td>\n",
       "      <td>32</td>\n",
       "      <td>No</td>\n",
       "      <td>581988</td>\n",
       "      <td>No</td>\n",
       "      <td>0</td>\n",
       "    </tr>\n",
       "    <tr>\n",
       "      <th>2</th>\n",
       "      <td>HD3DSEMC</td>\n",
       "      <td>Female</td>\n",
       "      <td>56</td>\n",
       "      <td>RG268</td>\n",
       "      <td>Self_Employed</td>\n",
       "      <td>X3</td>\n",
       "      <td>26</td>\n",
       "      <td>No</td>\n",
       "      <td>1484315</td>\n",
       "      <td>Yes</td>\n",
       "      <td>0</td>\n",
       "    </tr>\n",
       "    <tr>\n",
       "      <th>3</th>\n",
       "      <td>BF3NC7KV</td>\n",
       "      <td>Male</td>\n",
       "      <td>34</td>\n",
       "      <td>RG270</td>\n",
       "      <td>Salaried</td>\n",
       "      <td>X1</td>\n",
       "      <td>19</td>\n",
       "      <td>No</td>\n",
       "      <td>470454</td>\n",
       "      <td>No</td>\n",
       "      <td>0</td>\n",
       "    </tr>\n",
       "    <tr>\n",
       "      <th>4</th>\n",
       "      <td>TEASRWXV</td>\n",
       "      <td>Female</td>\n",
       "      <td>30</td>\n",
       "      <td>RG282</td>\n",
       "      <td>Salaried</td>\n",
       "      <td>X1</td>\n",
       "      <td>33</td>\n",
       "      <td>No</td>\n",
       "      <td>886787</td>\n",
       "      <td>No</td>\n",
       "      <td>0</td>\n",
       "    </tr>\n",
       "  </tbody>\n",
       "</table>\n",
       "</div>"
      ],
      "text/plain": [
       "    User_ID  Gender  Age Area_Code     Profession Channel_Code  Vintage Has_Credit  Avg_Account_Balance Is_Active  Need_Credit_Card\n",
       "0  NNVBBKZB  Female   73     RG268          Other           X3       43         No              1045696        No                 0\n",
       "1  IDD62UNG  Female   30     RG277       Salaried           X1       32         No               581988        No                 0\n",
       "2  HD3DSEMC  Female   56     RG268  Self_Employed           X3       26         No              1484315       Yes                 0\n",
       "3  BF3NC7KV    Male   34     RG270       Salaried           X1       19         No               470454        No                 0\n",
       "4  TEASRWXV  Female   30     RG282       Salaried           X1       33         No               886787        No                 0"
      ]
     },
     "execution_count": 3,
     "metadata": {},
     "output_type": "execute_result"
    }
   ],
   "source": [
    "df.head()"
   ]
  },
  {
   "cell_type": "code",
   "execution_count": 4,
   "id": "b827c342",
   "metadata": {},
   "outputs": [
    {
     "data": {
      "text/plain": [
       "(245725, 11)"
      ]
     },
     "execution_count": 4,
     "metadata": {},
     "output_type": "execute_result"
    }
   ],
   "source": [
    "df.shape"
   ]
  },
  {
   "cell_type": "markdown",
   "id": "553fe30d",
   "metadata": {},
   "source": [
    "### Exploratory Data Analysis"
   ]
  },
  {
   "cell_type": "markdown",
   "id": "e56e51f0",
   "metadata": {},
   "source": [
    "#### Quick View"
   ]
  },
  {
   "cell_type": "code",
   "execution_count": 5,
   "id": "469df63c",
   "metadata": {
    "scrolled": true
   },
   "outputs": [
    {
     "name": "stdout",
     "output_type": "stream",
     "text": [
      "<class 'pandas.core.frame.DataFrame'>\n",
      "RangeIndex: 245725 entries, 0 to 245724\n",
      "Data columns (total 11 columns):\n",
      " #   Column               Non-Null Count   Dtype \n",
      "---  ------               --------------   ----- \n",
      " 0   User_ID              245725 non-null  object\n",
      " 1   Gender               245725 non-null  object\n",
      " 2   Age                  245725 non-null  int64 \n",
      " 3   Area_Code            245725 non-null  object\n",
      " 4   Profession           245725 non-null  object\n",
      " 5   Channel_Code         245725 non-null  object\n",
      " 6   Vintage              245725 non-null  int64 \n",
      " 7   Has_Credit           216400 non-null  object\n",
      " 8   Avg_Account_Balance  245725 non-null  int64 \n",
      " 9   Is_Active            245725 non-null  object\n",
      " 10  Need_Credit_Card     245725 non-null  int64 \n",
      "dtypes: int64(4), object(7)\n",
      "memory usage: 20.6+ MB\n"
     ]
    }
   ],
   "source": [
    "df.info()"
   ]
  },
  {
   "cell_type": "code",
   "execution_count": 6,
   "id": "ff597e61",
   "metadata": {},
   "outputs": [
    {
     "name": "stdout",
     "output_type": "stream",
     "text": [
      "Column : Count\n",
      "User_ID : 245725\n",
      "Gender : 2\n",
      "Age : 63\n",
      "Area_Code : 35\n",
      "Profession : 4\n",
      "Channel_Code : 4\n",
      "Vintage : 66\n",
      "Has_Credit : 2\n",
      "Avg_Account_Balance : 135292\n",
      "Is_Active : 2\n",
      "Need_Credit_Card : 2\n"
     ]
    }
   ],
   "source": [
    "print(\"Column : Count\")\n",
    "for col in df.columns:\n",
    "    print(col + \" : \"  + str(df[col].nunique()))"
   ]
  },
  {
   "cell_type": "code",
   "execution_count": 7,
   "id": "4265d915",
   "metadata": {},
   "outputs": [
    {
     "data": {
      "text/plain": [
       "User_ID                    0\n",
       "Gender                     0\n",
       "Age                        0\n",
       "Area_Code                  0\n",
       "Profession                 0\n",
       "Channel_Code               0\n",
       "Vintage                    0\n",
       "Has_Credit             29325\n",
       "Avg_Account_Balance        0\n",
       "Is_Active                  0\n",
       "Need_Credit_Card           0\n",
       "dtype: int64"
      ]
     },
     "execution_count": 7,
     "metadata": {},
     "output_type": "execute_result"
    }
   ],
   "source": [
    "df.isnull().sum()"
   ]
  },
  {
   "cell_type": "code",
   "execution_count": 8,
   "id": "85f6f7d6",
   "metadata": {},
   "outputs": [
    {
     "data": {
      "text/plain": [
       "(245725, 11)"
      ]
     },
     "execution_count": 8,
     "metadata": {},
     "output_type": "execute_result"
    }
   ],
   "source": [
    "df.shape"
   ]
  },
  {
   "cell_type": "code",
   "execution_count": 9,
   "id": "a3725149",
   "metadata": {},
   "outputs": [
    {
     "data": {
      "text/html": [
       "<div>\n",
       "<style scoped>\n",
       "    .dataframe tbody tr th:only-of-type {\n",
       "        vertical-align: middle;\n",
       "    }\n",
       "\n",
       "    .dataframe tbody tr th {\n",
       "        vertical-align: top;\n",
       "    }\n",
       "\n",
       "    .dataframe thead th {\n",
       "        text-align: right;\n",
       "    }\n",
       "</style>\n",
       "<table border=\"1\" class=\"dataframe\">\n",
       "  <thead>\n",
       "    <tr style=\"text-align: right;\">\n",
       "      <th></th>\n",
       "      <th>count</th>\n",
       "      <th>mean</th>\n",
       "      <th>std</th>\n",
       "      <th>min</th>\n",
       "      <th>25%</th>\n",
       "      <th>50%</th>\n",
       "      <th>75%</th>\n",
       "      <th>max</th>\n",
       "    </tr>\n",
       "  </thead>\n",
       "  <tbody>\n",
       "    <tr>\n",
       "      <th>Age</th>\n",
       "      <td>245725.0</td>\n",
       "      <td>4.385631e+01</td>\n",
       "      <td>14.828672</td>\n",
       "      <td>23.0</td>\n",
       "      <td>30.0</td>\n",
       "      <td>43.0</td>\n",
       "      <td>54.0</td>\n",
       "      <td>85.0</td>\n",
       "    </tr>\n",
       "    <tr>\n",
       "      <th>Vintage</th>\n",
       "      <td>245725.0</td>\n",
       "      <td>4.695914e+01</td>\n",
       "      <td>32.353136</td>\n",
       "      <td>7.0</td>\n",
       "      <td>20.0</td>\n",
       "      <td>32.0</td>\n",
       "      <td>73.0</td>\n",
       "      <td>135.0</td>\n",
       "    </tr>\n",
       "    <tr>\n",
       "      <th>Avg_Account_Balance</th>\n",
       "      <td>245725.0</td>\n",
       "      <td>1.128403e+06</td>\n",
       "      <td>852936.356069</td>\n",
       "      <td>20790.0</td>\n",
       "      <td>604310.0</td>\n",
       "      <td>894601.0</td>\n",
       "      <td>1366666.0</td>\n",
       "      <td>10352009.0</td>\n",
       "    </tr>\n",
       "    <tr>\n",
       "      <th>Need_Credit_Card</th>\n",
       "      <td>245725.0</td>\n",
       "      <td>2.372083e-01</td>\n",
       "      <td>0.425372</td>\n",
       "      <td>0.0</td>\n",
       "      <td>0.0</td>\n",
       "      <td>0.0</td>\n",
       "      <td>0.0</td>\n",
       "      <td>1.0</td>\n",
       "    </tr>\n",
       "  </tbody>\n",
       "</table>\n",
       "</div>"
      ],
      "text/plain": [
       "                        count          mean            std      min       25%       50%        75%         max\n",
       "Age                  245725.0  4.385631e+01      14.828672     23.0      30.0      43.0       54.0        85.0\n",
       "Vintage              245725.0  4.695914e+01      32.353136      7.0      20.0      32.0       73.0       135.0\n",
       "Avg_Account_Balance  245725.0  1.128403e+06  852936.356069  20790.0  604310.0  894601.0  1366666.0  10352009.0\n",
       "Need_Credit_Card     245725.0  2.372083e-01       0.425372      0.0       0.0       0.0        0.0         1.0"
      ]
     },
     "execution_count": 9,
     "metadata": {},
     "output_type": "execute_result"
    }
   ],
   "source": [
    "df.describe().T"
   ]
  },
  {
   "cell_type": "markdown",
   "id": "4db4546a",
   "metadata": {},
   "source": [
    "#### Drop Irrelevent Columns"
   ]
  },
  {
   "cell_type": "code",
   "execution_count": 10,
   "id": "d7a41419",
   "metadata": {},
   "outputs": [],
   "source": [
    "df.drop([\"User_ID\"], axis = 1, inplace = True)"
   ]
  },
  {
   "cell_type": "code",
   "execution_count": 11,
   "id": "40edf06c",
   "metadata": {},
   "outputs": [
    {
     "data": {
      "text/html": [
       "<div>\n",
       "<style scoped>\n",
       "    .dataframe tbody tr th:only-of-type {\n",
       "        vertical-align: middle;\n",
       "    }\n",
       "\n",
       "    .dataframe tbody tr th {\n",
       "        vertical-align: top;\n",
       "    }\n",
       "\n",
       "    .dataframe thead th {\n",
       "        text-align: right;\n",
       "    }\n",
       "</style>\n",
       "<table border=\"1\" class=\"dataframe\">\n",
       "  <thead>\n",
       "    <tr style=\"text-align: right;\">\n",
       "      <th></th>\n",
       "      <th>Gender</th>\n",
       "      <th>Age</th>\n",
       "      <th>Area_Code</th>\n",
       "      <th>Profession</th>\n",
       "      <th>Channel_Code</th>\n",
       "      <th>Vintage</th>\n",
       "      <th>Has_Credit</th>\n",
       "      <th>Avg_Account_Balance</th>\n",
       "      <th>Is_Active</th>\n",
       "      <th>Need_Credit_Card</th>\n",
       "    </tr>\n",
       "  </thead>\n",
       "  <tbody>\n",
       "    <tr>\n",
       "      <th>0</th>\n",
       "      <td>Female</td>\n",
       "      <td>73</td>\n",
       "      <td>RG268</td>\n",
       "      <td>Other</td>\n",
       "      <td>X3</td>\n",
       "      <td>43</td>\n",
       "      <td>No</td>\n",
       "      <td>1045696</td>\n",
       "      <td>No</td>\n",
       "      <td>0</td>\n",
       "    </tr>\n",
       "    <tr>\n",
       "      <th>1</th>\n",
       "      <td>Female</td>\n",
       "      <td>30</td>\n",
       "      <td>RG277</td>\n",
       "      <td>Salaried</td>\n",
       "      <td>X1</td>\n",
       "      <td>32</td>\n",
       "      <td>No</td>\n",
       "      <td>581988</td>\n",
       "      <td>No</td>\n",
       "      <td>0</td>\n",
       "    </tr>\n",
       "    <tr>\n",
       "      <th>2</th>\n",
       "      <td>Female</td>\n",
       "      <td>56</td>\n",
       "      <td>RG268</td>\n",
       "      <td>Self_Employed</td>\n",
       "      <td>X3</td>\n",
       "      <td>26</td>\n",
       "      <td>No</td>\n",
       "      <td>1484315</td>\n",
       "      <td>Yes</td>\n",
       "      <td>0</td>\n",
       "    </tr>\n",
       "    <tr>\n",
       "      <th>3</th>\n",
       "      <td>Male</td>\n",
       "      <td>34</td>\n",
       "      <td>RG270</td>\n",
       "      <td>Salaried</td>\n",
       "      <td>X1</td>\n",
       "      <td>19</td>\n",
       "      <td>No</td>\n",
       "      <td>470454</td>\n",
       "      <td>No</td>\n",
       "      <td>0</td>\n",
       "    </tr>\n",
       "    <tr>\n",
       "      <th>4</th>\n",
       "      <td>Female</td>\n",
       "      <td>30</td>\n",
       "      <td>RG282</td>\n",
       "      <td>Salaried</td>\n",
       "      <td>X1</td>\n",
       "      <td>33</td>\n",
       "      <td>No</td>\n",
       "      <td>886787</td>\n",
       "      <td>No</td>\n",
       "      <td>0</td>\n",
       "    </tr>\n",
       "  </tbody>\n",
       "</table>\n",
       "</div>"
      ],
      "text/plain": [
       "   Gender  Age Area_Code     Profession Channel_Code  Vintage Has_Credit  Avg_Account_Balance Is_Active  Need_Credit_Card\n",
       "0  Female   73     RG268          Other           X3       43         No              1045696        No                 0\n",
       "1  Female   30     RG277       Salaried           X1       32         No               581988        No                 0\n",
       "2  Female   56     RG268  Self_Employed           X3       26         No              1484315       Yes                 0\n",
       "3    Male   34     RG270       Salaried           X1       19         No               470454        No                 0\n",
       "4  Female   30     RG282       Salaried           X1       33         No               886787        No                 0"
      ]
     },
     "execution_count": 11,
     "metadata": {},
     "output_type": "execute_result"
    }
   ],
   "source": [
    "df.head()"
   ]
  },
  {
   "cell_type": "markdown",
   "id": "f39133f5",
   "metadata": {},
   "source": [
    "#### Fill Null Values"
   ]
  },
  {
   "cell_type": "code",
   "execution_count": 12,
   "id": "2438f905",
   "metadata": {},
   "outputs": [],
   "source": [
    "col = \"Has_Credit\"\n",
    "\n",
    "df[col].fillna(df[~df[col].isna()][col].sort_values().reset_index()[col][len(df[~df[col].isna()][col])//2-1],inplace=True)"
   ]
  },
  {
   "cell_type": "code",
   "execution_count": 13,
   "id": "30056026",
   "metadata": {},
   "outputs": [
    {
     "data": {
      "text/plain": [
       "Gender                 0\n",
       "Age                    0\n",
       "Area_Code              0\n",
       "Profession             0\n",
       "Channel_Code           0\n",
       "Vintage                0\n",
       "Has_Credit             0\n",
       "Avg_Account_Balance    0\n",
       "Is_Active              0\n",
       "Need_Credit_Card       0\n",
       "dtype: int64"
      ]
     },
     "execution_count": 13,
     "metadata": {},
     "output_type": "execute_result"
    }
   ],
   "source": [
    "df.isnull().sum()"
   ]
  },
  {
   "cell_type": "markdown",
   "id": "4661ca65",
   "metadata": {},
   "source": [
    "#### Define Data Type"
   ]
  },
  {
   "cell_type": "code",
   "execution_count": 14,
   "id": "acbb0ad7",
   "metadata": {},
   "outputs": [],
   "source": [
    "def define_data_types(dataframe, nCategory):\n",
    "    cat_values = [val for val in dataframe.columns if str(dataframe[val].dtypes) in [\"category\", \"object\", \"bool\"] and dataframe[val].nunique() <= nCategory]\n",
    "    not_int_values = [val for val in dataframe.columns if str(dataframe[val].dtypes) in [\"int32\", \"int64\", \"float32\", \"float64\"] and dataframe[val].nunique() <= nCategory]\n",
    "    cat_values = cat_values + not_int_values\n",
    "    \n",
    "    int_values = [val for val in dataframe.columns if val not in cat_values]\n",
    "    not_cat_values = [val for val in dataframe.columns if str(dataframe[val].dtypes) in [\"category\", \"object\", \"bool\"] and dataframe[val].nunique() > nCategory and val not in int_values]\n",
    "    int_values = int_values + not_cat_values\n",
    "    \n",
    "    print(\"################### CATEGORICAL DATA TYPES ###################\")\n",
    "    print(cat_values, end='\\n\\n')\n",
    "    \n",
    "    print(\"################### NUMERICAL DATA TYPES ###################\")\n",
    "    print(int_values, end='\\n\\n')\n",
    "    \n",
    "    return cat_values, int_values"
   ]
  },
  {
   "cell_type": "code",
   "execution_count": 15,
   "id": "bf5fd3aa",
   "metadata": {},
   "outputs": [
    {
     "name": "stdout",
     "output_type": "stream",
     "text": [
      "################### CATEGORICAL DATA TYPES ###################\n",
      "['Gender', 'Area_Code', 'Profession', 'Channel_Code', 'Has_Credit', 'Is_Active', 'Need_Credit_Card']\n",
      "\n",
      "################### NUMERICAL DATA TYPES ###################\n",
      "['Age', 'Vintage', 'Avg_Account_Balance']\n",
      "\n"
     ]
    }
   ],
   "source": [
    "categorical, numerical = define_data_types(df, 36)"
   ]
  },
  {
   "cell_type": "markdown",
   "id": "978ab7f2",
   "metadata": {},
   "source": [
    "#### Categorical Data Analysis"
   ]
  },
  {
   "cell_type": "code",
   "execution_count": 16,
   "id": "63ff2a2f",
   "metadata": {},
   "outputs": [],
   "source": [
    "def categorical_analysis(dataframe, column_names):\n",
    "    \n",
    "    pd.options.display.float_format = '{:,.2f}'.format\n",
    "                                           \n",
    "    for col in column_names:\n",
    "        print(\"#####################################\")\n",
    "        s1 = dataframe[col].value_counts()\n",
    "        s2 = dataframe[col].value_counts()/len(dataframe[col])\n",
    "        \n",
    "        print(pd.concat([s1, s2], names=col, keys=['count', \"ratio\"], axis=1), end=\"\\n#####################################\\n\\n\")\n",
    "        "
   ]
  },
  {
   "cell_type": "code",
   "execution_count": 17,
   "id": "a7941245",
   "metadata": {},
   "outputs": [
    {
     "name": "stdout",
     "output_type": "stream",
     "text": [
      "#####################################\n",
      "Gender   count  ratio\n",
      "Gender               \n",
      "Male    134197   0.55\n",
      "Female  111528   0.45\n",
      "#####################################\n",
      "\n",
      "#####################################\n",
      "Area_Code  count  ratio\n",
      "Area_Code              \n",
      "RG268      35934   0.15\n",
      "RG283      29416   0.12\n",
      "RG254      26840   0.11\n",
      "RG284      19320   0.08\n",
      "RG277      12826   0.05\n",
      "RG280      12775   0.05\n",
      "RG269       7863   0.03\n",
      "RG270       7720   0.03\n",
      "RG261       7633   0.03\n",
      "RG257       6101   0.02\n",
      "RG251       5950   0.02\n",
      "RG282       5829   0.02\n",
      "RG274       5286   0.02\n",
      "RG272       5252   0.02\n",
      "RG281       5093   0.02\n",
      "RG273       4497   0.02\n",
      "RG252       4286   0.02\n",
      "RG279       3976   0.02\n",
      "RG263       3687   0.02\n",
      "RG275       3245   0.01\n",
      "RG260       3110   0.01\n",
      "RG256       2847   0.01\n",
      "RG264       2793   0.01\n",
      "RG276       2764   0.01\n",
      "RG259       2586   0.01\n",
      "RG250       2496   0.01\n",
      "RG255       2018   0.01\n",
      "RG258       1951   0.01\n",
      "RG253       1858   0.01\n",
      "RG278       1822   0.01\n",
      "RG262       1788   0.01\n",
      "RG266       1578   0.01\n",
      "RG265       1546   0.01\n",
      "RG271       1542   0.01\n",
      "RG267       1497   0.01\n",
      "#####################################\n",
      "\n",
      "#####################################\n",
      "Profession      count  ratio\n",
      "Profession                  \n",
      "Self_Employed  100886   0.41\n",
      "Salaried        71999   0.29\n",
      "Other           70173   0.29\n",
      "Entrepreneur     2667   0.01\n",
      "#####################################\n",
      "\n",
      "#####################################\n",
      "Channel_Code   count  ratio\n",
      "Channel_Code               \n",
      "X1            103718   0.42\n",
      "X3             68712   0.28\n",
      "X2             67726   0.28\n",
      "X4              5569   0.02\n",
      "#####################################\n",
      "\n",
      "#####################################\n",
      "Has_Credit   count  ratio\n",
      "Has_Credit               \n",
      "No          173682   0.71\n",
      "Yes          72043   0.29\n",
      "#####################################\n",
      "\n",
      "#####################################\n",
      "Is_Active   count  ratio\n",
      "Is_Active               \n",
      "No         150290   0.61\n",
      "Yes         95435   0.39\n",
      "#####################################\n",
      "\n",
      "#####################################\n",
      "Need_Credit_Card   count  ratio\n",
      "Need_Credit_Card               \n",
      "0                 187437   0.76\n",
      "1                  58288   0.24\n",
      "#####################################\n",
      "\n"
     ]
    }
   ],
   "source": [
    "categorical_analysis(df, categorical)"
   ]
  },
  {
   "cell_type": "markdown",
   "id": "6a1e6466",
   "metadata": {},
   "source": [
    "#### Numerical Data Analysis"
   ]
  },
  {
   "cell_type": "code",
   "execution_count": 18,
   "id": "5d521fec",
   "metadata": {},
   "outputs": [],
   "source": [
    "def numerical_analysis(dataframe, column_names):\n",
    "    \n",
    "    pd.options.display.float_format = '{:,.1f}'.format\n",
    "    \n",
    "    print(dataframe[column_names].describe([0, 0.05, 0.25, 0.5, 0.75, 0.95, 1]).T, end='\\n\\n')\n",
    "    \n",
    "    for col in column_names:\n",
    "        if plt.plot:\n",
    "            sns.histplot(dataframe[col], kde=True)\n",
    "            \n",
    "            plt.title(\"Histogram of \" + col)\n",
    "            plt.xlabel(col)\n",
    "            plt.ylabel(\"Count\")\n",
    "            plt.show()"
   ]
  },
  {
   "cell_type": "code",
   "execution_count": 19,
   "id": "481761ca",
   "metadata": {},
   "outputs": [
    {
     "name": "stdout",
     "output_type": "stream",
     "text": [
      "                        count        mean       std      min       0%        5%       25%       50%         75%         95%         100%          max\n",
      "Age                 245,725.0        43.9      14.8     23.0     23.0      26.0      30.0      43.0        54.0        73.0         85.0         85.0\n",
      "Vintage             245,725.0        47.0      32.4      7.0      7.0      13.0      20.0      32.0        73.0       110.0        135.0        135.0\n",
      "Avg_Account_Balance 245,725.0 1,128,403.1 852,936.4 20,790.0 20,790.0 352,992.8 604,310.0 894,601.0 1,366,666.0 2,673,533.0 10,352,009.0 10,352,009.0\n",
      "\n"
     ]
    },
    {
     "data": {
      "image/png": "[encoded data removed]",
      "text/plain": [
       "<Figure size 640x480 with 1 Axes>"
      ]
     },
     "metadata": {},
     "output_type": "display_data"
    },
    {
     "data": {
      "image/png": "[encoded data removed]",
      "text/plain": [
       "<Figure size 640x480 with 1 Axes>"
      ]
     },
     "metadata": {},
     "output_type": "display_data"
    },
    {
     "data": {
      "image/png": "[encoded data removed]",
      "text/plain": [
       "<Figure size 640x480 with 1 Axes>"
      ]
     },
     "metadata": {},
     "output_type": "display_data"
    }
   ],
   "source": [
    "numerical_analysis(df, numerical)"
   ]
  },
  {
   "cell_type": "markdown",
   "id": "fc7cba2f",
   "metadata": {},
   "source": [
    "#### Target Data Analysis"
   ]
  },
  {
   "cell_type": "code",
   "execution_count": 20,
   "id": "2ca88ce0",
   "metadata": {},
   "outputs": [],
   "source": [
    "def target_analysis_with_numerical(dataframe, cat_types, target):\n",
    "    \n",
    "    pd.options.display.float_format = '{:,.2f}'.format\n",
    "    \n",
    "    for col in cat_types:\n",
    "        if col != target:\n",
    "            print(\"################# MEAN ####################\")\n",
    "            print(dataframe.groupby(target).agg({col: \"mean\"}), end=\"\\n#####################################\\n\\n\")"
   ]
  },
  {
   "cell_type": "code",
   "execution_count": 21,
   "id": "220289e3",
   "metadata": {},
   "outputs": [
    {
     "name": "stdout",
     "output_type": "stream",
     "text": [
      "################# MEAN ####################\n",
      "                   Age\n",
      "Need_Credit_Card      \n",
      "0                41.95\n",
      "1                49.99\n",
      "#####################################\n",
      "\n",
      "################# MEAN ####################\n",
      "                  Vintage\n",
      "Need_Credit_Card         \n",
      "0                   41.91\n",
      "1                   63.18\n",
      "#####################################\n",
      "\n",
      "################# MEAN ####################\n",
      "                  Avg_Account_Balance\n",
      "Need_Credit_Card                     \n",
      "0                        1,103,018.02\n",
      "1                        1,210,034.04\n",
      "#####################################\n",
      "\n"
     ]
    }
   ],
   "source": [
    "target = \"Need_Credit_Card\"\n",
    "\n",
    "target_analysis_with_numerical(df, numerical, target)"
   ]
  },
  {
   "cell_type": "code",
   "execution_count": 22,
   "id": "8ae94cdd",
   "metadata": {},
   "outputs": [
    {
     "data": {
      "text/plain": [
       "Need_Credit_Card\n",
       "0   76.28\n",
       "1   23.72\n",
       "Name: proportion, dtype: float64"
      ]
     },
     "execution_count": 22,
     "metadata": {},
     "output_type": "execute_result"
    }
   ],
   "source": [
    "df[target].value_counts(normalize=True) * 100"
   ]
  },
  {
   "cell_type": "markdown",
   "id": "1a8790d7",
   "metadata": {},
   "source": [
    "#### Replace Lables with Categories"
   ]
  },
  {
   "cell_type": "code",
   "execution_count": 23,
   "id": "b95a1bc7",
   "metadata": {},
   "outputs": [],
   "source": [
    "def label_encoding(dataframe, columns):\n",
    "     \n",
    "    label_encoder = preprocessing.LabelEncoder() \n",
    "    \n",
    "    for col in columns:\n",
    "        dataframe[col] = label_encoder.fit_transform(dataframe[col]) "
   ]
  },
  {
   "cell_type": "code",
   "execution_count": 24,
   "id": "7f6224f1",
   "metadata": {},
   "outputs": [],
   "source": [
    "label_encoding(df, ['Gender', 'Area_Code', 'Profession', 'Channel_Code', 'Has_Credit', 'Is_Active'])"
   ]
  },
  {
   "cell_type": "code",
   "execution_count": 25,
   "id": "61fa8c06",
   "metadata": {},
   "outputs": [
    {
     "data": {
      "text/html": [
       "<div>\n",
       "<style scoped>\n",
       "    .dataframe tbody tr th:only-of-type {\n",
       "        vertical-align: middle;\n",
       "    }\n",
       "\n",
       "    .dataframe tbody tr th {\n",
       "        vertical-align: top;\n",
       "    }\n",
       "\n",
       "    .dataframe thead th {\n",
       "        text-align: right;\n",
       "    }\n",
       "</style>\n",
       "<table border=\"1\" class=\"dataframe\">\n",
       "  <thead>\n",
       "    <tr style=\"text-align: right;\">\n",
       "      <th></th>\n",
       "      <th>Gender</th>\n",
       "      <th>Age</th>\n",
       "      <th>Area_Code</th>\n",
       "      <th>Profession</th>\n",
       "      <th>Channel_Code</th>\n",
       "      <th>Vintage</th>\n",
       "      <th>Has_Credit</th>\n",
       "      <th>Avg_Account_Balance</th>\n",
       "      <th>Is_Active</th>\n",
       "      <th>Need_Credit_Card</th>\n",
       "    </tr>\n",
       "  </thead>\n",
       "  <tbody>\n",
       "    <tr>\n",
       "      <th>0</th>\n",
       "      <td>0</td>\n",
       "      <td>73</td>\n",
       "      <td>18</td>\n",
       "      <td>1</td>\n",
       "      <td>2</td>\n",
       "      <td>43</td>\n",
       "      <td>0</td>\n",
       "      <td>1045696</td>\n",
       "      <td>0</td>\n",
       "      <td>0</td>\n",
       "    </tr>\n",
       "    <tr>\n",
       "      <th>1</th>\n",
       "      <td>0</td>\n",
       "      <td>30</td>\n",
       "      <td>27</td>\n",
       "      <td>2</td>\n",
       "      <td>0</td>\n",
       "      <td>32</td>\n",
       "      <td>0</td>\n",
       "      <td>581988</td>\n",
       "      <td>0</td>\n",
       "      <td>0</td>\n",
       "    </tr>\n",
       "    <tr>\n",
       "      <th>2</th>\n",
       "      <td>0</td>\n",
       "      <td>56</td>\n",
       "      <td>18</td>\n",
       "      <td>3</td>\n",
       "      <td>2</td>\n",
       "      <td>26</td>\n",
       "      <td>0</td>\n",
       "      <td>1484315</td>\n",
       "      <td>1</td>\n",
       "      <td>0</td>\n",
       "    </tr>\n",
       "    <tr>\n",
       "      <th>3</th>\n",
       "      <td>1</td>\n",
       "      <td>34</td>\n",
       "      <td>20</td>\n",
       "      <td>2</td>\n",
       "      <td>0</td>\n",
       "      <td>19</td>\n",
       "      <td>0</td>\n",
       "      <td>470454</td>\n",
       "      <td>0</td>\n",
       "      <td>0</td>\n",
       "    </tr>\n",
       "    <tr>\n",
       "      <th>4</th>\n",
       "      <td>0</td>\n",
       "      <td>30</td>\n",
       "      <td>32</td>\n",
       "      <td>2</td>\n",
       "      <td>0</td>\n",
       "      <td>33</td>\n",
       "      <td>0</td>\n",
       "      <td>886787</td>\n",
       "      <td>0</td>\n",
       "      <td>0</td>\n",
       "    </tr>\n",
       "  </tbody>\n",
       "</table>\n",
       "</div>"
      ],
      "text/plain": [
       "   Gender  Age  Area_Code  Profession  Channel_Code  Vintage  Has_Credit  Avg_Account_Balance  Is_Active  Need_Credit_Card\n",
       "0       0   73         18           1             2       43           0              1045696          0                 0\n",
       "1       0   30         27           2             0       32           0               581988          0                 0\n",
       "2       0   56         18           3             2       26           0              1484315          1                 0\n",
       "3       1   34         20           2             0       19           0               470454          0                 0\n",
       "4       0   30         32           2             0       33           0               886787          0                 0"
      ]
     },
     "execution_count": 25,
     "metadata": {},
     "output_type": "execute_result"
    }
   ],
   "source": [
    "df.head()"
   ]
  },
  {
   "cell_type": "code",
   "execution_count": 26,
   "id": "0adea2fb",
   "metadata": {},
   "outputs": [
    {
     "name": "stdout",
     "output_type": "stream",
     "text": [
      "<class 'pandas.core.frame.DataFrame'>\n",
      "RangeIndex: 245725 entries, 0 to 245724\n",
      "Data columns (total 10 columns):\n",
      " #   Column               Non-Null Count   Dtype\n",
      "---  ------               --------------   -----\n",
      " 0   Gender               245725 non-null  int32\n",
      " 1   Age                  245725 non-null  int64\n",
      " 2   Area_Code            245725 non-null  int32\n",
      " 3   Profession           245725 non-null  int32\n",
      " 4   Channel_Code         245725 non-null  int32\n",
      " 5   Vintage              245725 non-null  int64\n",
      " 6   Has_Credit           245725 non-null  int32\n",
      " 7   Avg_Account_Balance  245725 non-null  int64\n",
      " 8   Is_Active            245725 non-null  int32\n",
      " 9   Need_Credit_Card     245725 non-null  int64\n",
      "dtypes: int32(6), int64(4)\n",
      "memory usage: 13.1 MB\n"
     ]
    }
   ],
   "source": [
    "df.info()"
   ]
  },
  {
   "cell_type": "markdown",
   "id": "21b9aeda",
   "metadata": {},
   "source": [
    "#### Correlation Matrix"
   ]
  },
  {
   "cell_type": "code",
   "execution_count": 27,
   "id": "d657fe47",
   "metadata": {},
   "outputs": [],
   "source": [
    "def correlation_matrix(dataframe,columns):\n",
    "    fig = plt.gcf()\n",
    "    fig.set_size_inches(10,8)\n",
    "    plt.xticks(fontsize=10)\n",
    "    plt.yticks(fontsize=10)\n",
    "    fig=sns.heatmap(dataframe[columns].corr(), annot=True, linewidths = 0.5, annot_kws={'size':12},linecolor='w',cmap='RdBu')\n",
    "    plt.show(block=True)"
   ]
  },
  {
   "cell_type": "code",
   "execution_count": 28,
   "id": "adf970bc",
   "metadata": {},
   "outputs": [
    {
     "data": {
      "image/png": "[encoded data removed]",
      "text/plain": [
       "<Figure size 1000x800 with 2 Axes>"
      ]
     },
     "metadata": {},
     "output_type": "display_data"
    }
   ],
   "source": [
    "correlation_matrix(df, df.columns)"
   ]
  },
  {
   "cell_type": "markdown",
   "id": "0775d2c6",
   "metadata": {},
   "source": [
    "### Data Preprocessing & Feature Engineering"
   ]
  },
  {
   "cell_type": "markdown",
   "id": "4bd8c24c",
   "metadata": {},
   "source": [
    "#### Outlier"
   ]
  },
  {
   "cell_type": "code",
   "execution_count": 29,
   "id": "1bc82784",
   "metadata": {},
   "outputs": [],
   "source": [
    "def check_outlier(dataframe, columns):\n",
    "    for col in columns:\n",
    "        sns.boxplot(x=dataframe[col])\n",
    "        plt.show()"
   ]
  },
  {
   "cell_type": "code",
   "execution_count": 30,
   "id": "2bdb04b2",
   "metadata": {},
   "outputs": [
    {
     "data": {
      "image/png": "[encoded data removed]",
      "text/plain": [
       "<Figure size 640x480 with 1 Axes>"
      ]
     },
     "metadata": {},
     "output_type": "display_data"
    },
    {
     "data": {
      "image/png": "[encoded data removed]",
      "text/plain": [
       "<Figure size 640x480 with 1 Axes>"
      ]
     },
     "metadata": {},
     "output_type": "display_data"
    },
    {
     "data": {
      "image/png": "[encoded data removed]",
      "text/plain": [
       "<Figure size 640x480 with 1 Axes>"
      ]
     },
     "metadata": {},
     "output_type": "display_data"
    }
   ],
   "source": [
    "check_outlier(df, numerical)"
   ]
  },
  {
   "cell_type": "code",
   "execution_count": 31,
   "id": "5cfad8e9",
   "metadata": {},
   "outputs": [],
   "source": [
    "def outlier_thresholds(dataframe, col_name, q1=0.25, q3=0.75):\n",
    "    quartile1= dataframe[col_name].quantile(q1)\n",
    "    quartile3=dataframe[col_name].quantile(q3)\n",
    "    interquartile_range = quartile3-quartile1\n",
    "    up_limit = quartile3+1.5*interquartile_range\n",
    "    low_limit = quartile1-1.5*interquartile_range\n",
    "    return low_limit,up_limit"
   ]
  },
  {
   "cell_type": "code",
   "execution_count": 32,
   "id": "49be2904",
   "metadata": {},
   "outputs": [],
   "source": [
    "def replace_with_threshold(dataframe, variable):\n",
    "    \n",
    "    for var in variable:\n",
    "        low_limit,up_limit = outlier_thresholds(dataframe, var)\n",
    "        dataframe.loc[(dataframe[var]<=low_limit), var] = low_limit\n",
    "        dataframe.loc[(dataframe[var]>=up_limit), var] = up_limit"
   ]
  },
  {
   "cell_type": "code",
   "execution_count": 33,
   "id": "7fe20b45",
   "metadata": {},
   "outputs": [],
   "source": [
    "replace_with_threshold(df, numerical)"
   ]
  },
  {
   "cell_type": "code",
   "execution_count": 34,
   "id": "278e89bb",
   "metadata": {},
   "outputs": [
    {
     "data": {
      "image/png": "[encoded data removed]",
      "text/plain": [
       "<Figure size 640x480 with 1 Axes>"
      ]
     },
     "metadata": {},
     "output_type": "display_data"
    },
    {
     "data": {
      "image/png": "[encoded data removed]",
      "text/plain": [
       "<Figure size 640x480 with 1 Axes>"
      ]
     },
     "metadata": {},
     "output_type": "display_data"
    },
    {
     "data": {
      "image/png": "[encoded data removed]",
      "text/plain": [
       "<Figure size 640x480 with 1 Axes>"
      ]
     },
     "metadata": {},
     "output_type": "display_data"
    }
   ],
   "source": [
    "check_outlier(df, numerical)"
   ]
  },
  {
   "cell_type": "markdown",
   "id": "18707439",
   "metadata": {},
   "source": [
    "#### Data Split into Train and Test"
   ]
  },
  {
   "cell_type": "code",
   "execution_count": 35,
   "id": "8c72a3d9",
   "metadata": {},
   "outputs": [],
   "source": [
    "y = df[target]\n",
    "X = df.drop(target, axis=1)\n",
    "\n",
    "X_train,X_test,y_train,y_test = train_test_split(X,y,test_size=0.2)"
   ]
  },
  {
   "cell_type": "markdown",
   "id": "7a257438",
   "metadata": {},
   "source": [
    "#### Normalize Data"
   ]
  },
  {
   "cell_type": "code",
   "execution_count": 36,
   "id": "db8b820c",
   "metadata": {},
   "outputs": [],
   "source": [
    "def normalize(dataframe):\n",
    "    for col in dataframe.columns:\n",
    "        max_value = dataframe[col].max()\n",
    "        min_value = dataframe[col].min()\n",
    "        dataframe[col] = (dataframe[col] - min_value) / (max_value - min_value)"
   ]
  },
  {
   "cell_type": "code",
   "execution_count": 37,
   "id": "45b3eda6",
   "metadata": {},
   "outputs": [],
   "source": [
    "normalize(X_train)\n",
    "normalize(X_test)"
   ]
  },
  {
   "cell_type": "code",
   "execution_count": 38,
   "id": "20595a46",
   "metadata": {},
   "outputs": [
    {
     "data": {
      "text/html": [
       "<div>\n",
       "<style scoped>\n",
       "    .dataframe tbody tr th:only-of-type {\n",
       "        vertical-align: middle;\n",
       "    }\n",
       "\n",
       "    .dataframe tbody tr th {\n",
       "        vertical-align: top;\n",
       "    }\n",
       "\n",
       "    .dataframe thead th {\n",
       "        text-align: right;\n",
       "    }\n",
       "</style>\n",
       "<table border=\"1\" class=\"dataframe\">\n",
       "  <thead>\n",
       "    <tr style=\"text-align: right;\">\n",
       "      <th></th>\n",
       "      <th>Gender</th>\n",
       "      <th>Age</th>\n",
       "      <th>Area_Code</th>\n",
       "      <th>Profession</th>\n",
       "      <th>Channel_Code</th>\n",
       "      <th>Vintage</th>\n",
       "      <th>Has_Credit</th>\n",
       "      <th>Avg_Account_Balance</th>\n",
       "      <th>Is_Active</th>\n",
       "    </tr>\n",
       "  </thead>\n",
       "  <tbody>\n",
       "    <tr>\n",
       "      <th>118741</th>\n",
       "      <td>0.00</td>\n",
       "      <td>0.13</td>\n",
       "      <td>0.12</td>\n",
       "      <td>0.67</td>\n",
       "      <td>0.00</td>\n",
       "      <td>0.14</td>\n",
       "      <td>0.00</td>\n",
       "      <td>0.64</td>\n",
       "      <td>0.00</td>\n",
       "    </tr>\n",
       "    <tr>\n",
       "      <th>68819</th>\n",
       "      <td>0.00</td>\n",
       "      <td>0.65</td>\n",
       "      <td>0.79</td>\n",
       "      <td>0.33</td>\n",
       "      <td>0.00</td>\n",
       "      <td>0.20</td>\n",
       "      <td>0.00</td>\n",
       "      <td>0.18</td>\n",
       "      <td>0.00</td>\n",
       "    </tr>\n",
       "    <tr>\n",
       "      <th>19807</th>\n",
       "      <td>1.00</td>\n",
       "      <td>0.32</td>\n",
       "      <td>0.97</td>\n",
       "      <td>0.67</td>\n",
       "      <td>0.33</td>\n",
       "      <td>0.11</td>\n",
       "      <td>0.00</td>\n",
       "      <td>0.30</td>\n",
       "      <td>1.00</td>\n",
       "    </tr>\n",
       "    <tr>\n",
       "      <th>225666</th>\n",
       "      <td>0.00</td>\n",
       "      <td>0.08</td>\n",
       "      <td>1.00</td>\n",
       "      <td>0.67</td>\n",
       "      <td>0.00</td>\n",
       "      <td>0.06</td>\n",
       "      <td>0.00</td>\n",
       "      <td>0.57</td>\n",
       "      <td>1.00</td>\n",
       "    </tr>\n",
       "    <tr>\n",
       "      <th>118454</th>\n",
       "      <td>1.00</td>\n",
       "      <td>0.39</td>\n",
       "      <td>0.12</td>\n",
       "      <td>1.00</td>\n",
       "      <td>0.67</td>\n",
       "      <td>0.66</td>\n",
       "      <td>1.00</td>\n",
       "      <td>0.35</td>\n",
       "      <td>1.00</td>\n",
       "    </tr>\n",
       "  </tbody>\n",
       "</table>\n",
       "</div>"
      ],
      "text/plain": [
       "        Gender  Age  Area_Code  Profession  Channel_Code  Vintage  Has_Credit  Avg_Account_Balance  Is_Active\n",
       "118741    0.00 0.13       0.12        0.67          0.00     0.14        0.00                 0.64       0.00\n",
       "68819     0.00 0.65       0.79        0.33          0.00     0.20        0.00                 0.18       0.00\n",
       "19807     1.00 0.32       0.97        0.67          0.33     0.11        0.00                 0.30       1.00\n",
       "225666    0.00 0.08       1.00        0.67          0.00     0.06        0.00                 0.57       1.00\n",
       "118454    1.00 0.39       0.12        1.00          0.67     0.66        1.00                 0.35       1.00"
      ]
     },
     "execution_count": 38,
     "metadata": {},
     "output_type": "execute_result"
    }
   ],
   "source": [
    "X_train.head()"
   ]
  },
  {
   "cell_type": "code",
   "execution_count": 39,
   "id": "2c1bf1db",
   "metadata": {},
   "outputs": [
    {
     "data": {
      "text/html": [
       "<div>\n",
       "<style scoped>\n",
       "    .dataframe tbody tr th:only-of-type {\n",
       "        vertical-align: middle;\n",
       "    }\n",
       "\n",
       "    .dataframe tbody tr th {\n",
       "        vertical-align: top;\n",
       "    }\n",
       "\n",
       "    .dataframe thead th {\n",
       "        text-align: right;\n",
       "    }\n",
       "</style>\n",
       "<table border=\"1\" class=\"dataframe\">\n",
       "  <thead>\n",
       "    <tr style=\"text-align: right;\">\n",
       "      <th></th>\n",
       "      <th>Gender</th>\n",
       "      <th>Age</th>\n",
       "      <th>Area_Code</th>\n",
       "      <th>Profession</th>\n",
       "      <th>Channel_Code</th>\n",
       "      <th>Vintage</th>\n",
       "      <th>Has_Credit</th>\n",
       "      <th>Avg_Account_Balance</th>\n",
       "      <th>Is_Active</th>\n",
       "    </tr>\n",
       "  </thead>\n",
       "  <tbody>\n",
       "    <tr>\n",
       "      <th>139356</th>\n",
       "      <td>0.00</td>\n",
       "      <td>0.05</td>\n",
       "      <td>0.53</td>\n",
       "      <td>1.00</td>\n",
       "      <td>0.00</td>\n",
       "      <td>0.05</td>\n",
       "      <td>0.00</td>\n",
       "      <td>0.14</td>\n",
       "      <td>1.00</td>\n",
       "    </tr>\n",
       "    <tr>\n",
       "      <th>224457</th>\n",
       "      <td>1.00</td>\n",
       "      <td>0.07</td>\n",
       "      <td>0.94</td>\n",
       "      <td>0.67</td>\n",
       "      <td>0.00</td>\n",
       "      <td>0.09</td>\n",
       "      <td>0.00</td>\n",
       "      <td>0.48</td>\n",
       "      <td>1.00</td>\n",
       "    </tr>\n",
       "    <tr>\n",
       "      <th>174299</th>\n",
       "      <td>1.00</td>\n",
       "      <td>0.33</td>\n",
       "      <td>0.97</td>\n",
       "      <td>1.00</td>\n",
       "      <td>0.33</td>\n",
       "      <td>0.52</td>\n",
       "      <td>0.00</td>\n",
       "      <td>0.18</td>\n",
       "      <td>0.00</td>\n",
       "    </tr>\n",
       "    <tr>\n",
       "      <th>215090</th>\n",
       "      <td>1.00</td>\n",
       "      <td>0.08</td>\n",
       "      <td>0.21</td>\n",
       "      <td>0.67</td>\n",
       "      <td>0.00</td>\n",
       "      <td>0.20</td>\n",
       "      <td>1.00</td>\n",
       "      <td>0.46</td>\n",
       "      <td>0.00</td>\n",
       "    </tr>\n",
       "    <tr>\n",
       "      <th>39704</th>\n",
       "      <td>0.00</td>\n",
       "      <td>0.46</td>\n",
       "      <td>0.53</td>\n",
       "      <td>1.00</td>\n",
       "      <td>0.67</td>\n",
       "      <td>0.95</td>\n",
       "      <td>0.00</td>\n",
       "      <td>1.00</td>\n",
       "      <td>1.00</td>\n",
       "    </tr>\n",
       "  </tbody>\n",
       "</table>\n",
       "</div>"
      ],
      "text/plain": [
       "        Gender  Age  Area_Code  Profession  Channel_Code  Vintage  Has_Credit  Avg_Account_Balance  Is_Active\n",
       "139356    0.00 0.05       0.53        1.00          0.00     0.05        0.00                 0.14       1.00\n",
       "224457    1.00 0.07       0.94        0.67          0.00     0.09        0.00                 0.48       1.00\n",
       "174299    1.00 0.33       0.97        1.00          0.33     0.52        0.00                 0.18       0.00\n",
       "215090    1.00 0.08       0.21        0.67          0.00     0.20        1.00                 0.46       0.00\n",
       "39704     0.00 0.46       0.53        1.00          0.67     0.95        0.00                 1.00       1.00"
      ]
     },
     "execution_count": 39,
     "metadata": {},
     "output_type": "execute_result"
    }
   ],
   "source": [
    "X_test.head()"
   ]
  },
  {
   "cell_type": "markdown",
   "id": "57ca6fe6",
   "metadata": {},
   "source": [
    "### The Model"
   ]
  },
  {
   "cell_type": "code",
   "execution_count": 40,
   "id": "22054148-1e93-4cfd-986e-3f925f2428f8",
   "metadata": {},
   "outputs": [],
   "source": [
    "# !pip install xgboost"
   ]
  },
  {
   "cell_type": "code",
   "execution_count": 41,
   "id": "b5a06067",
   "metadata": {
    "scrolled": true
   },
   "outputs": [],
   "source": [
    "from xgboost import XGBClassifier\n",
    "from scipy.stats import randint as sp_randint\n",
    "from sklearn.model_selection import RandomizedSearchCV"
   ]
  },
  {
   "cell_type": "markdown",
   "id": "6175ee1c",
   "metadata": {},
   "source": [
    "#### XGBoosting Algorithm"
   ]
  },
  {
   "cell_type": "code",
   "execution_count": null,
   "id": "e9587953",
   "metadata": {},
   "outputs": [
    {
     "name": "stdout",
     "output_type": "stream",
     "text": [
      "Fitting 20 folds for each of 20 candidates, totalling 400 fits\n"
     ]
    }
   ],
   "source": [
    "param = {\"n_estimators\":sp_randint(40,100), \n",
    "         \"colsample_bytree\":np.array([0.5,0.6,0.7,0.8,0.9,1]),\n",
    "         \"subsample\":np.array([0.5,0.6,0.7,0.8,0.9,1]),\n",
    "         \"reg_lambda\":np.array([1e-5,1e-4,1e-3,1e-2,0.1,1,10,100]),\n",
    "         \"reg_alpha\":np.array([1e-5,1e-4,1e-3,1e-2,0.1,1,10,100]),\n",
    "         \"min_child_samples\": sp_randint(25,65),\n",
    "         \"max_depth\": sp_randint(1,20)}\n",
    "\n",
    "clf_xgb_model = XGBClassifier(boosting_type = \"gbdt\", \n",
    "                              n_jobs =-1, \n",
    "                              random_state = 0, \n",
    "                              verbosity =0, \n",
    "                              scale_pos_weight = 3.2158)\n",
    "\n",
    "xgb_random_cv = RandomizedSearchCV(clf_xgb_model, param_distributions = param,\n",
    "                                         n_iter=20, cv=20, scoring='roc_auc',random_state=42,\n",
    "                                         verbose=1)\n",
    "\n",
    "xgb_random_cv.fit(X_train, y_train)"
   ]
  },
  {
   "cell_type": "code",
   "execution_count": null,
   "id": "a567d67a",
   "metadata": {},
   "outputs": [],
   "source": [
    "print('mean CV test scores', xgb_random_cv.cv_results_['mean_test_score'])"
   ]
  },
  {
   "cell_type": "code",
   "execution_count": null,
   "id": "e651c74e",
   "metadata": {},
   "outputs": [],
   "source": [
    "print('mean CV test scores', statistics.mean(xgb_random_cv.cv_results_['mean_test_score']))"
   ]
  },
  {
   "cell_type": "code",
   "execution_count": null,
   "id": "d9957b50",
   "metadata": {},
   "outputs": [],
   "source": [
    "print(\"The Best Parameters: \", xgb_random_cv.best_estimator_)"
   ]
  },
  {
   "cell_type": "markdown",
   "id": "eebf4f68",
   "metadata": {},
   "source": [
    "#### Final Model XGBoosting"
   ]
  },
  {
   "cell_type": "code",
   "execution_count": null,
   "id": "8ad9ad3b",
   "metadata": {},
   "outputs": [],
   "source": [
    "xgb_model = XGBClassifier(base_score=0.5, booster='gbtree', boosting_type='gbdt', \n",
    "                          colsample_bylevel=1, colsample_bynode=1, colsample_bytree=0.6,\n",
    "                          gamma=0, gpu_id=-1, importance_type='gain', learning_rate=0.01,\n",
    "                          max_delta_step=0, max_depth=7, min_child_samples=52,\n",
    "                          min_child_weight=1, n_estimators=46, n_jobs=-1, num_parallel_tree=1, \n",
    "                          random_state=0, reg_alpha=1e-05, reg_lambda=100.0, scale_pos_weight=3.2158,\n",
    "                          subsample=0.8, tree_method='exact', validate_parameters=1, verbosity=0)\n"
   ]
  },
  {
   "cell_type": "code",
   "execution_count": null,
   "id": "1bf51a7e",
   "metadata": {},
   "outputs": [],
   "source": [
    "xgb_model.fit(X_train, y_train)"
   ]
  },
  {
   "cell_type": "code",
   "execution_count": null,
   "id": "85f585e0",
   "metadata": {},
   "outputs": [],
   "source": [
    "y_log = xgb_model.predict(X_test)"
   ]
  },
  {
   "cell_type": "code",
   "execution_count": null,
   "id": "c4ab35d0",
   "metadata": {},
   "outputs": [],
   "source": [
    "y_pred = np.where(y_log > 0.5, 1, 0)"
   ]
  },
  {
   "cell_type": "code",
   "execution_count": null,
   "id": "db2a5e5b",
   "metadata": {},
   "outputs": [],
   "source": [
    "y_pred"
   ]
  },
  {
   "cell_type": "code",
   "execution_count": null,
   "id": "dd74e80c",
   "metadata": {},
   "outputs": [],
   "source": [
    "accuracy_score(y_test, y_pred)"
   ]
  },
  {
   "cell_type": "code",
   "execution_count": null,
   "id": "a8dd0e40",
   "metadata": {},
   "outputs": [],
   "source": [
    "cm = confusion_matrix(y_test, y_pred)\n",
    "\n",
    "p = sns.heatmap(pd.DataFrame(cm), annot=True, cmap=\"YlGnBu\" ,fmt='g')\n",
    "plt.title('Confusion matrix', y=1.1)\n",
    "plt.ylabel('Actual label')\n",
    "plt.xlabel('Predicted label')"
   ]
  }
 ],
 "metadata": {
  "kernelspec": {
   "display_name": "Python 3 (ipykernel)",
   "language": "python",
   "name": "python3"
  },
  "language_info": {
   "codemirror_mode": {
    "name": "ipython",
    "version": 3
   },
   "file_extension": ".py",
   "mimetype": "text/x-python",
   "name": "python",
   "nbconvert_exporter": "python",
   "pygments_lexer": "ipython3",
   "version": "3.11.7"
  }
 },
 "nbformat": 4,
 "nbformat_minor": 5
}
